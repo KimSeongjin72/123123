{
  "nbformat": 4,
  "nbformat_minor": 0,
  "metadata": {
    "colab": {
      "provenance": [],
      "toc_visible": true,
      "authorship_tag": "ABX9TyPLHokCZPlPeErSnU8kBIPb",
      "include_colab_link": true
    },
    "kernelspec": {
      "name": "python3",
      "display_name": "Python 3"
    },
    "language_info": {
      "name": "python"
    }
  },
  "cells": [
    {
      "cell_type": "markdown",
      "metadata": {
        "id": "view-in-github",
        "colab_type": "text"
      },
      "source": [
        "<a href=\"https://colab.research.google.com/github/KimSeongjin72/123123/blob/main/Untitled0.ipynb\" target=\"_parent\"><img src=\"https://colab.research.google.com/assets/colab-badge.svg\" alt=\"Open In Colab\"/></a>"
      ]
    },
    {
      "cell_type": "markdown",
      "source": [
        "안녕하세요. 2242727 김성진입니다.\n",
        "\n",
        "\n",
        "```\n",
        "int age = 21\n",
        "print(age)\n",
        "```\n",
        "[네이버](https://www.naver.com)\n"
      ],
      "metadata": {
        "id": "D8-8RH5ZHfD5"
      }
    },
    {
      "cell_type": "code",
      "source": [],
      "metadata": {
        "id": "tcQA-_MOHlhy"
      },
      "execution_count": null,
      "outputs": []
    }
  ]
}